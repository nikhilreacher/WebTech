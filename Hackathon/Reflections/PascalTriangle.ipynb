{
 "cells": [
  {
   "cell_type": "markdown",
   "metadata": {},
   "source": [
    "## Pascal's Triangle\n",
    "\n",
    "####  Recursive algorithm\n",
    "> This algorithm can be used when the value of n is large.\n",
    "\n",
    "> Time complexity - O(2^n).\n",
    "\n",
    "\n",
    "####  DP with 2D array\n",
    "> May consume lot of memory but is efficient when it has    large n.\n",
    "\n",
    "> Time and space depend on the value of n * k\n",
    "\n",
    "\n",
    "#### DP with 1D array\n",
    "> Depends on the value of k.\n",
    "\n",
    "> Can be used for constant value of n.\n",
    "\n",
    "> Time complexity - O(n * k)"
   ]
  },
  {
   "cell_type": "code",
   "execution_count": null,
   "metadata": {},
   "outputs": [],
   "source": []
  }
 ],
 "metadata": {
  "kernelspec": {
   "display_name": "Python 3",
   "language": "python",
   "name": "python3"
  },
  "language_info": {
   "codemirror_mode": {
    "name": "ipython",
    "version": 3
   },
   "file_extension": ".py",
   "mimetype": "text/x-python",
   "name": "python",
   "nbconvert_exporter": "python",
   "pygments_lexer": "ipython3",
   "version": "3.6.6"
  }
 },
 "nbformat": 4,
 "nbformat_minor": 2
}
